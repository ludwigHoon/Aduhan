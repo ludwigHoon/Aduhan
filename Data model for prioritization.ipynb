{
 "cells": [
  {
   "cell_type": "code",
   "execution_count": null,
   "metadata": {},
   "outputs": [],
   "source": [
    "import pandas as pd\n",
    "income_by_branch = pd.read_csv(\"cif-active-customer---income-range-by-branch.csv\")\n",
    "employment_state_occupation = pd.read_csv(\"cif-active-customer---income-range-by-branch.csv\")\n",
    "compensation_economic_activity = pd.read_csv(\"cif-active-customer---income-range-by-branch.csv\")"
   ]
  }
 ],
 "metadata": {
  "kernelspec": {
   "display_name": "Python 3",
   "language": "python",
   "name": "python3"
  },
  "language_info": {
   "codemirror_mode": {
    "name": "ipython",
    "version": 3
   },
   "file_extension": ".py",
   "mimetype": "text/x-python",
   "name": "python",
   "nbconvert_exporter": "python",
   "pygments_lexer": "ipython3",
   "version": "3.7.3"
  }
 },
 "nbformat": 4,
 "nbformat_minor": 2
}
